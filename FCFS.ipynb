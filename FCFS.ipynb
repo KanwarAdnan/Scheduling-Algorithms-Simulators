{
  "nbformat": 4,
  "nbformat_minor": 0,
  "metadata": {
    "colab": {
      "provenance": []
    },
    "kernelspec": {
      "name": "python3",
      "display_name": "Python 3"
    },
    "language_info": {
      "name": "python"
    }
  },
  "cells": [
    {
      "cell_type": "markdown",
      "source": [
        "# **A class for simulating the First-Come-First-Serve (FCFS) scheduling algorithm.**\n",
        "\n",
        "**By Kanwar Adnan**"
      ],
      "metadata": {
        "id": "1JECYurw8pTT"
      }
    },
    {
      "cell_type": "code",
      "source": [
        "import pandas as pd"
      ],
      "metadata": {
        "id": "COHYaLIwcXSR"
      },
      "execution_count": 1,
      "outputs": []
    },
    {
      "cell_type": "code",
      "source": [
        "class Process:\n",
        "    \"\"\"\n",
        "    Represents a process in a computer with a name, arrival time, and burst time.\n",
        "\n",
        "    Parameters:\n",
        "    process_name (str): the name of the process.\n",
        "    arrival_time (int): the time at which the process arrives in the system.\n",
        "    burst_time (int): the time it takes for the process to complete its execution.\n",
        "    \"\"\"\n",
        "\n",
        "    def __init__(self, process_name, arrival_time, burst_time):\n",
        "        \"\"\"\n",
        "        Initializes the Process object with the given name, arrival time, and burst time.\n",
        "\n",
        "        Args:\n",
        "        process_name (str): the name of the process.\n",
        "        arrival_time (int): the time at which the process arrives in the system.\n",
        "        burst_time (int): the time it takes for the process to complete its execution.\n",
        "        \"\"\"\n",
        "        self.process_name: str = process_name\n",
        "        self.arrival_time: int = arrival_time\n",
        "        self.burst_time: int = burst_time"
      ],
      "metadata": {
        "id": "HHABCS0m28t4"
      },
      "execution_count": 2,
      "outputs": []
    },
    {
      "cell_type": "code",
      "source": [
        "class FCFS:\n",
        "  \"\"\"\n",
        "  A class for simulating the First-Come-First-Serve (FCFS) scheduling algorithm.\n",
        "\n",
        "  Attributes:\n",
        "      processes: A dictionary containing the input processes for the scheduling simulation.\n",
        "      sorted_processes: A dictionary containing the input processes sorted by arrival time.\n",
        "  \"\"\"\n",
        "  def __init__(self):\n",
        "    \"\"\"\n",
        "    Initializes the FCFS class and creates instance variables for storing the processes and sorted processes.\n",
        "    \"\"\"\n",
        "    self.processes = None\n",
        "    self.sorted_processes = None\n",
        "\n",
        "  def sort_processes(self , processes: list):\n",
        "    \"\"\"\n",
        "    Sorts the processes by arrival time and returns the sorted data as a dictionary.\n",
        "    \"\"\"\n",
        "    return sorted(processes, key=lambda process: process.arrival_time)\n",
        "\n",
        "  def build_gant_chart(self , sorted_processes: list):\n",
        "    temp = 0\n",
        "    gant_chart = {}\n",
        "    for process in sorted_processes:\n",
        "      temp += process.burst_time\n",
        "      gant_chart[process.process_name] = temp\n",
        "    return gant_chart\n",
        "\n",
        "  def calculate_times(self, gant_chart: list, arrival_time: list, burst_time: list):\n",
        "    \"\"\"\n",
        "    Calculates and returns lists of the run times, turn-around times, and waiting times for each process based on the input data.\n",
        "\n",
        "    Args:\n",
        "        gant_chart: A list of the finish times for each process.\n",
        "        arrival_time: A list of the arrival times for each process.\n",
        "        burst_time: A list of the burst times for each process.\n",
        "\n",
        "    Returns:\n",
        "        A tuple containing three lists: the run times, turn-around times, and waiting times for each process.\n",
        "    \"\"\"\n",
        "    run_time = [arrival_time[0], *gant_chart[:-1]]\n",
        "    turn_around_time = [gant_chart[i] - arrival_time[i] for i in range(len(gant_chart))]\n",
        "    waiting_time = [turn_around_time[i] - burst_time[i] for i in range(len(turn_around_time))]\n",
        "    return run_time, turn_around_time, waiting_time\n",
        "\n",
        "  def generate_table(self, data: dict):\n",
        "    \"\"\"\n",
        "    Generates and returns a table of scheduling data for the input data. The table includes the process names, arrival times, burst times, run times, finish times, turn-around times, and waiting times.\n",
        "\n",
        "    Args:\n",
        "        data: A dictionary containing the input data for the scheduling simulation.\n",
        "\n",
        "    Returns:\n",
        "        A dictionary containing the scheduling data for the input data.\n",
        "    \"\"\"\n",
        "    self.processes = data\n",
        "    sorted_processes = self.sort_processes(self.processes)\n",
        "\n",
        "    gant_chart = self.build_gant_chart(sorted_processes)\n",
        "    gant_chart = list(gant_chart.values())\n",
        "    processes = [process.process_name for process in sorted_processes]\n",
        "    arrival_time = [process.arrival_time for process in sorted_processes]\n",
        "    burst_time = [process.burst_time for process in sorted_processes]\n",
        "    run_time, turn_around_time, waiting_time = self.calculate_times(gant_chart, arrival_time, burst_time)\n",
        "\n",
        "    table_data = {\n",
        "      \"Process\": processes,\n",
        "      \"A.T\": arrival_time,\n",
        "      \"B.T\": burst_time,\n",
        "      \"R.T\": run_time,\n",
        "      \"F.T\": gant_chart,\n",
        "      \"T.A.T\": turn_around_time,\n",
        "      \"W.T\": waiting_time,\n",
        "    }\n",
        "\n",
        "    return table_data"
      ],
      "metadata": {
        "id": "qGtMfvab2SN1"
      },
      "execution_count": 3,
      "outputs": []
    },
    {
      "cell_type": "code",
      "source": [
        "def answer_the_questions(algorithm ,  questions: list):\n",
        "  data_frames = []\n",
        "  for question in questions:\n",
        "    table = algorithm.generate_table(question)\n",
        "    df = pd.DataFrame(table)\n",
        "    df.sort_values(by=['Process'] , inplace=True)\n",
        "    data_frames.append(df)\n",
        "  return data_frames"
      ],
      "metadata": {
        "id": "4IpK4t1ZcT3U"
      },
      "execution_count": 4,
      "outputs": []
    },
    {
      "cell_type": "code",
      "source": [
        "p1 = Process(\"P1\", arrival_time = 0 , burst_time = 9)\n",
        "p2 = Process(\"P2\", arrival_time = 1 , burst_time = 4)\n",
        "p3 = Process(\"P3\", arrival_time = 2 , burst_time = 9)\n",
        "p4 = Process(\"P4\", arrival_time = 4 , burst_time = 3)\n",
        "q1 = [p1 , p2 , p3 , p4]"
      ],
      "metadata": {
        "id": "w1NgsoeD3P0E"
      },
      "execution_count": 5,
      "outputs": []
    },
    {
      "cell_type": "code",
      "source": [
        "p1 = Process(\"P1\", arrival_time = 0 , burst_time = 20)\n",
        "p2 = Process(\"P2\", arrival_time = 15 , burst_time = 25)\n",
        "p3 = Process(\"P3\", arrival_time = 30 , burst_time = 10)\n",
        "p4 = Process(\"P4\", arrival_time = 45 , burst_time = 15)\n",
        "q2 = [p1 , p2 , p3 , p4]"
      ],
      "metadata": {
        "id": "LsxyEfcv3OIL"
      },
      "execution_count": 6,
      "outputs": []
    },
    {
      "cell_type": "code",
      "source": [
        "p1 = Process(\"P1\", arrival_time = 0 , burst_time = 8)\n",
        "p2 = Process(\"P2\", arrival_time = 1 , burst_time = 4)\n",
        "p3 = Process(\"P3\", arrival_time = 2 , burst_time = 9)\n",
        "p4 = Process(\"P4\", arrival_time = 3 , burst_time = 5)\n",
        "q3 = [p1 , p2 , p3 , p4]"
      ],
      "metadata": {
        "id": "ox1sr_gn3HUP"
      },
      "execution_count": 7,
      "outputs": []
    },
    {
      "cell_type": "code",
      "source": [
        "p1 = Process(\"P1\", arrival_time = 3 , burst_time = 8)\n",
        "p2 = Process(\"P2\", arrival_time = 1 , burst_time = 4)\n",
        "p3 = Process(\"P3\", arrival_time = 2 , burst_time = 9)\n",
        "p4 = Process(\"P4\", arrival_time = 0 , burst_time = 5)\n",
        "q4 = [p1 , p2 , p3 , p4]"
      ],
      "metadata": {
        "id": "9fDe3XMo5q4w"
      },
      "execution_count": 8,
      "outputs": []
    },
    {
      "cell_type": "code",
      "source": [
        "questions = [q1 , q2 , q3 , q4]"
      ],
      "metadata": {
        "id": "2hQLfZyk3fz7"
      },
      "execution_count": 9,
      "outputs": []
    },
    {
      "cell_type": "code",
      "source": [
        "fcfs = FCFS()"
      ],
      "metadata": {
        "id": "WdXt0q7L3kA_"
      },
      "execution_count": 10,
      "outputs": []
    },
    {
      "cell_type": "code",
      "source": [
        "answers = answer_the_questions(fcfs, questions)"
      ],
      "metadata": {
        "id": "FiDUeg7-cb-b"
      },
      "execution_count": 11,
      "outputs": []
    },
    {
      "cell_type": "code",
      "source": [
        "answers"
      ],
      "metadata": {
        "colab": {
          "base_uri": "https://localhost:8080/"
        },
        "id": "_NiOosWJcd60",
        "outputId": "b0c45739-972c-4c40-c4e9-3085ea6dd4db"
      },
      "execution_count": 12,
      "outputs": [
        {
          "output_type": "execute_result",
          "data": {
            "text/plain": [
              "[  Process  A.T  B.T  R.T  F.T  T.A.T  W.T\n",
              " 0      P1    0    9    0    9      9    0\n",
              " 1      P2    1    4    9   13     12    8\n",
              " 2      P3    2    9   13   22     20   11\n",
              " 3      P4    4    3   22   25     21   18,\n",
              "   Process  A.T  B.T  R.T  F.T  T.A.T  W.T\n",
              " 0      P1    0   20    0   20     20    0\n",
              " 1      P2   15   25   20   45     30    5\n",
              " 2      P3   30   10   45   55     25   15\n",
              " 3      P4   45   15   55   70     25   10,\n",
              "   Process  A.T  B.T  R.T  F.T  T.A.T  W.T\n",
              " 0      P1    0    8    0    8      8    0\n",
              " 1      P2    1    4    8   12     11    7\n",
              " 2      P3    2    9   12   21     19   10\n",
              " 3      P4    3    5   21   26     23   18,\n",
              "   Process  A.T  B.T  R.T  F.T  T.A.T  W.T\n",
              " 3      P1    3    8   18   26     23   15\n",
              " 1      P2    1    4    5    9      8    4\n",
              " 2      P3    2    9    9   18     16    7\n",
              " 0      P4    0    5    0    5      5    0]"
            ]
          },
          "metadata": {},
          "execution_count": 12
        }
      ]
    }
  ]
}