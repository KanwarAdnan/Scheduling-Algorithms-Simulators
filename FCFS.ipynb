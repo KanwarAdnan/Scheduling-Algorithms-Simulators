{
  "nbformat": 4,
  "nbformat_minor": 0,
  "metadata": {
    "colab": {
      "provenance": []
    },
    "kernelspec": {
      "name": "python3",
      "display_name": "Python 3"
    },
    "language_info": {
      "name": "python"
    }
  },
  "cells": [
    {
      "cell_type": "code",
      "source": [
        "# A class for simulating the First-Come-First-Serve (FCFS) scheduling algorithm.\n",
        "\n",
        "# Code by Kanwar Adnan"
      ],
      "metadata": {
        "id": "iDqJt0ZoY-NE"
      },
      "execution_count": null,
      "outputs": []
    },
    {
      "cell_type": "code",
      "source": [
        "import pandas as pd"
      ],
      "metadata": {
        "id": "f9UTmYnnSyic"
      },
      "execution_count": 1,
      "outputs": []
    },
    {
      "cell_type": "code",
      "source": [
        "class FCFS:\n",
        "  \"\"\"\n",
        "  A class for simulating the First-Come-First-Serve (FCFS) scheduling algorithm.\n",
        "\n",
        "  Attributes:\n",
        "      data: A dictionary containing the input data for the scheduling simulation.\n",
        "      processed_data: A dictionary containing the input data sorted by arrival time.\n",
        "  \"\"\"\n",
        "  def __init__(self):\n",
        "    \"\"\"\n",
        "    Initializes the FCFS class and creates instance variables for storing the input data and processed data.\n",
        "    \"\"\"\n",
        "    self.data = None\n",
        "    self.processed_data = None\n",
        "\n",
        "  def process_data(self):\n",
        "    \"\"\"\n",
        "    Sorts the input data by arrival time and returns the sorted data as a dictionary.\n",
        "    \"\"\"\n",
        "    return dict(sorted(self.data.items(), key=lambda item: item[1]['at']))\n",
        "\n",
        "  def build_gant_chart(self, processed_data: dict):\n",
        "    \"\"\"\n",
        "    Builds and returns a Gantt chart for the input data, which is a list of the finish times for each process.\n",
        "\n",
        "    Args:\n",
        "        processed_data: A dictionary containing the input data sorted by arrival time.\n",
        "\n",
        "    Returns:\n",
        "        A list of the finish times for each process.\n",
        "    \"\"\"\n",
        "    temp = 0\n",
        "    gant_chart = []\n",
        "    for key, value in processed_data.items():\n",
        "      temp += value['bt']\n",
        "      gant_chart.append(temp)\n",
        "    return gant_chart\n",
        "\n",
        "  def calculate_times(self, gant_chart: list, arrival_time: list, burst_time: list):\n",
        "    \"\"\"\n",
        "    Calculates and returns lists of the run times, turn-around times, and waiting times for each process based on the input data.\n",
        "\n",
        "    Args:\n",
        "        gant_chart: A list of the finish times for each process.\n",
        "        arrival_time: A list of the arrival times for each process.\n",
        "        burst_time: A list of the burst times for each process.\n",
        "\n",
        "    Returns:\n",
        "        A tuple containing three lists: the run times, turn-around times, and waiting times for each process.\n",
        "    \"\"\"\n",
        "    run_time = [0, *gant_chart[1:]]\n",
        "    turn_around_time = [gant_chart[i] - arrival_time[i] for i in range(len(gant_chart))]\n",
        "    waiting_time = [turn_around_time[i] - burst_time[i] for i in range(len(turn_around_time))]\n",
        "    return run_time, turn_around_time, waiting_time\n",
        "\n",
        "  def generate_table(self, data: dict):\n",
        "    \"\"\"\n",
        "    Generates and returns a table of scheduling data for the input data. The table includes the process names, arrival times, burst times, run times, finish times, turn-around times, and waiting times.\n",
        "\n",
        "    Args:\n",
        "        data: A dictionary containing the input data for the scheduling simulation.\n",
        "\n",
        "    Returns:\n",
        "        A dictionary containing the scheduling data for the input data.\n",
        "    \"\"\"\n",
        "    self.data = data\n",
        "    processed_data = self.process_data()\n",
        "\n",
        "    gant_chart = self.build_gant_chart(processed_data)\n",
        "    processes = list(processed_data.keys())\n",
        "    arrival_time = [j['at'] for i, j in processed_data.items()]\n",
        "    burst_time = [j['bt'] for i, j in processed_data.items()]\n",
        "    run_time, turn_around_time, waiting_time = self.calculate_times(gant_chart, arrival_time, burst_time)\n",
        "\n",
        "    table_data = {\n",
        "      \"Process\": processes,\n",
        "      \"A.T\": arrival_time,\n",
        "      \"B.T\": burst_time,\n",
        "      \"R.T\": run_time,\n",
        "      \"F.T\": gant_chart,\n",
        "      \"T.A.T\": turn_around_time,\n",
        "      \"W.T\": waiting_time,\n",
        "    }\n",
        "\n",
        "    return table_data"
      ],
      "metadata": {
        "id": "wZMDrR29W50f"
      },
      "execution_count": 2,
      "outputs": []
    },
    {
      "cell_type": "code",
      "source": [
        "questions = {\n",
        "  'q1' : {\n",
        "      'P1' : {'at' : 0 , 'bt' : 9},\n",
        "      'P2' : {'at' : 1 , 'bt' : 4},\n",
        "      'P3' : {'at' : 2 , 'bt' : 9},\n",
        "      'P4' : {'at' : 4 , 'bt' : 3},\n",
        "  },\n",
        "\n",
        "  'q2' : {\n",
        "      \"P1\" : {'at' :  0 , 'bt' : 20},\n",
        "      \"P2\" : {'at' : 15 , 'bt' : 25},\n",
        "      \"P3\" : {'at' : 30 , 'bt' : 10},\n",
        "      \"P4\" : {'at' : 45 , 'bt' : 15},\n",
        "  },\n",
        "\n",
        "  'q3' : {\n",
        "      \"P1\" : {'at' : 0 , 'bt' : 8},\n",
        "      \"P2\" : {'at' : 1, 'bt'  : 4},\n",
        "      \"P3\" : {'at' : 2, 'bt' :  9},\n",
        "      \"P4\" : {'at' : 3, 'bt' : 5},\n",
        "  }\n",
        "}"
      ],
      "metadata": {
        "id": "7sRGjA7jS2sz"
      },
      "execution_count": 3,
      "outputs": []
    },
    {
      "cell_type": "code",
      "source": [
        "fcfs = FCFS()"
      ],
      "metadata": {
        "id": "7m0nGzLyMuKi"
      },
      "execution_count": 4,
      "outputs": []
    },
    {
      "cell_type": "code",
      "source": [
        "def answer_the_questions(algorithm ,  questions: dict):\n",
        "  data_frames = []\n",
        "  for question in questions:\n",
        "    table = algorithm.generate_table(questions[question])\n",
        "    df = pd.DataFrame(table)\n",
        "    data_frames.append(df)\n",
        "  return data_frames"
      ],
      "metadata": {
        "id": "EMVUaPeLRqug"
      },
      "execution_count": 5,
      "outputs": []
    },
    {
      "cell_type": "code",
      "source": [
        "answers = answer_the_questions(fcfs, questions)"
      ],
      "metadata": {
        "id": "bMiXx8csYzit"
      },
      "execution_count": 6,
      "outputs": []
    },
    {
      "cell_type": "code",
      "source": [
        "answers"
      ],
      "metadata": {
        "colab": {
          "base_uri": "https://localhost:8080/"
        },
        "id": "ILt_h7YsY2M4",
        "outputId": "8a784222-c08a-40ac-fc79-db8715dc178c"
      },
      "execution_count": 7,
      "outputs": [
        {
          "output_type": "execute_result",
          "data": {
            "text/plain": [
              "[  Process  A.T  B.T  R.T  F.T  T.A.T  W.T\n",
              " 0      P1    0    9    0    9      9    0\n",
              " 1      P2    1    4   13   13     12    8\n",
              " 2      P3    2    9   22   22     20   11\n",
              " 3      P4    4    3   25   25     21   18,\n",
              "   Process  A.T  B.T  R.T  F.T  T.A.T  W.T\n",
              " 0      P1    0   20    0   20     20    0\n",
              " 1      P2   15   25   45   45     30    5\n",
              " 2      P3   30   10   55   55     25   15\n",
              " 3      P4   45   15   70   70     25   10,\n",
              "   Process  A.T  B.T  R.T  F.T  T.A.T  W.T\n",
              " 0      P1    0    8    0    8      8    0\n",
              " 1      P2    1    4   12   12     11    7\n",
              " 2      P3    2    9   21   21     19   10\n",
              " 3      P4    3    5   26   26     23   18]"
            ]
          },
          "metadata": {},
          "execution_count": 7
        }
      ]
    }
  ]
}