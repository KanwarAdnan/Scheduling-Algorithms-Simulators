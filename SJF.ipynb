{
  "nbformat": 4,
  "nbformat_minor": 0,
  "metadata": {
    "colab": {
      "provenance": []
    },
    "kernelspec": {
      "name": "python3",
      "display_name": "Python 3"
    },
    "language_info": {
      "name": "python"
    }
  },
  "cells": [
    {
      "cell_type": "markdown",
      "source": [
        "# A class to implement the Shortest Job First (SJF) Non-Permitive scheduling algorithm.\n",
        "\n",
        "# Code by Kanwar Adnan"
      ],
      "metadata": {
        "id": "ULHjrp-GHYNb"
      }
    },
    {
      "cell_type": "code",
      "source": [
        "import pandas as pd"
      ],
      "metadata": {
        "id": "96oe-dHUHaqs"
      },
      "execution_count": 1,
      "outputs": []
    },
    {
      "cell_type": "code",
      "source": [
        "class Process:\n",
        "    \"\"\"\n",
        "    Represents a process in a computer with a name, arrival time, and burst time.\n",
        "\n",
        "    Parameters:\n",
        "    process_name (str): the name of the process.\n",
        "    arrival_time (int): the time at which the process arrives in the system.\n",
        "    burst_time (int): the time it takes for the process to complete its execution.\n",
        "    \"\"\"\n",
        "\n",
        "    def __init__(self, process_name, arrival_time, burst_time):\n",
        "        \"\"\"\n",
        "        Initializes the Process object with the given name, arrival time, and burst time.\n",
        "\n",
        "        Args:\n",
        "        process_name (str): the name of the process.\n",
        "        arrival_time (int): the time at which the process arrives in the system.\n",
        "        burst_time (int): the time it takes for the process to complete its execution.\n",
        "        \"\"\"\n",
        "        self.process_name: str = process_name\n",
        "        self.arrival_time: int = arrival_time\n",
        "        self.burst_time: int = burst_time"
      ],
      "metadata": {
        "id": "YadBTvroHchg"
      },
      "execution_count": 2,
      "outputs": []
    },
    {
      "cell_type": "code",
      "source": [
        "class ReadyQueue:\n",
        "    \"\"\"\n",
        "    A class representing a ready queue for processes in a scheduling algorithm.\n",
        "    \"\"\"\n",
        "    def __init__(self):\n",
        "        \"\"\"\n",
        "        Initializes an instance of the ReadyQueue class.\n",
        "        \"\"\"\n",
        "        self.processes = []\n",
        "\n",
        "    def append(self , process):\n",
        "        \"\"\"\n",
        "        Adds a process to the ready queue.\n",
        "        \n",
        "        Parameters:\n",
        "        process: Process: The process to be added to the ready queue.\n",
        "        \n",
        "        Returns:\n",
        "        None\n",
        "        \"\"\"\n",
        "        return self.processes.append(process)\n",
        "\n",
        "    def remove(self , process):\n",
        "        \"\"\"\n",
        "        Removes a process from the ready queue.\n",
        "        \n",
        "        Parameters:\n",
        "        process: Process: The process to be removed from the ready queue.\n",
        "        \n",
        "        Returns:\n",
        "        None\n",
        "        \"\"\"\n",
        "        return self.processes.remove(process)\n",
        "\n",
        "    def get_min_arrival_time_process(self):\n",
        "        \"\"\"\n",
        "        Gets the process with the minimum arrival time from the ready queue.\n",
        "        \n",
        "        Returns:\n",
        "        Process: The process with the minimum arrival time.\n",
        "        \"\"\"\n",
        "        return sorted(self.processes, key=lambda process: process.arrival_time)[0]\n",
        "\n",
        "    def get_min_burst_time_process(self):\n",
        "        \"\"\"\n",
        "        Gets the process with the minimum burst time from the ready queue.\n",
        "        \n",
        "        Returns:\n",
        "        Process: The process with the minimum burst time.\n",
        "        \"\"\"\n",
        "        return sorted(self.processes, key=lambda process: process.burst_time)[0]\n",
        "\n",
        "    def is_empty(self):\n",
        "        \"\"\"\n",
        "        Checks if the ready queue is empty.\n",
        "        \n",
        "        Returns:\n",
        "        bool: True if the ready queue is empty, False otherwise.\n",
        "        \"\"\"\n",
        "        return self.processes == []"
      ],
      "metadata": {
        "id": "vvEC9G0mHd_v"
      },
      "execution_count": 3,
      "outputs": []
    },
    {
      "cell_type": "code",
      "source": [
        "def get_jobs_at(arrival_time: int, sorted_processes: list):\n",
        "    \"\"\"\n",
        "    Gets a list of processes that have arrived at a given time.\n",
        "    \n",
        "    Parameters:\n",
        "    arrival_time: int: The arrival time of the processes to be retrieved.\n",
        "    sorted_processes: list: A list of Process objects sorted according to their arrival times.\n",
        "    \n",
        "    Returns:\n",
        "    list: A list of Process objects that have arrived at the given time.\n",
        "    \"\"\"\n",
        "    jobs = []\n",
        "    for process in sorted_processes:\n",
        "        if process.arrival_time <= arrival_time:\n",
        "            jobs.append(process)\n",
        "    return jobs"
      ],
      "metadata": {
        "id": "W61q2mJ2Hf2m"
      },
      "execution_count": 4,
      "outputs": []
    },
    {
      "cell_type": "code",
      "source": [
        "class SJF:\n",
        "  \"\"\"\n",
        "  A class to implement the Shortest Job First (SJF) Non-Permitive scheduling algorithm.\n",
        "  \"\"\"\n",
        "  def __init__(self):\n",
        "      \"\"\"\n",
        "      Initializes an instance of the SJF class.\n",
        "      \"\"\"\n",
        "      self.processes = None\n",
        "      self.sorted_processes = None\n",
        "\n",
        "  def sort_processes(self , processes: list):\n",
        "      \"\"\"\n",
        "      Sorts the given list of processes according to their arrival times.\n",
        "      \n",
        "      Parameters:\n",
        "      process: list: A list of Process objects.\n",
        "      \n",
        "      Returns:\n",
        "      list: A list of Process objects sorted according to their arrival times.\n",
        "      \"\"\"\n",
        "      return sorted(processes, key=lambda process: process.arrival_time)\n",
        "\n",
        "  def build_gant_chart(self, sorted_processes: list):\n",
        "      \"\"\"\n",
        "      Builds the Gantt chart for the given list of processes using the SJF scheduling algorithm.\n",
        "      \n",
        "      Parameters:\n",
        "      sorted_processes: list: A list of Process objects sorted according to their arrival times.\n",
        "      \n",
        "      Returns:\n",
        "      dict: A dictionary representing the Gantt chart, with the keys as the processes and the values as the\n",
        "            completion times.\n",
        "      \"\"\"\n",
        "      gant_chart = {}\n",
        "\n",
        "      ready_queue = ReadyQueue()\n",
        "\n",
        "      temp = sorted_processes[0].arrival_time\n",
        "\n",
        "      while not sorted_processes == []:\n",
        "        ready_queue.processes = get_jobs_at(temp , sorted_processes)\n",
        "\n",
        "        while not (ready_queue.is_empty()):\n",
        "          process = ready_queue.get_min_burst_time_process()\n",
        "          temp += process.burst_time\n",
        "          gant_chart[process] = temp\n",
        "          ready_queue.remove(process)\n",
        "          sorted_processes.remove(process)\n",
        "\n",
        "      return gant_chart\n",
        "\n",
        "  def calculate_times(self, gant_chart: list, arrival_time: list, burst_time: list):\n",
        "    \"\"\"\n",
        "    Calculates and returns lists of the run times, turn-around times, and waiting times for each process based on the input data.\n",
        "\n",
        "    Args:\n",
        "        gant_chart: A list of the finish times for each process.\n",
        "        arrival_time: A list of the arrival times for each process.\n",
        "        burst_time: A list of the burst times for each process.\n",
        "\n",
        "    Returns:\n",
        "        A tuple containing three lists: the run times, turn-around times, and waiting times for each process.\n",
        "    \"\"\"\n",
        "    run_time = [arrival_time[0], *gant_chart[:-1]]\n",
        "    turn_around_time = [gant_chart[i] - arrival_time[i] for i in range(len(gant_chart))]\n",
        "    waiting_time = [turn_around_time[i] - burst_time[i] for i in range(len(turn_around_time))]\n",
        "    return run_time, turn_around_time, waiting_time\n",
        "\n",
        "  def generate_table(self, data: dict):\n",
        "    \"\"\"\n",
        "    Generates and returns a table of scheduling data for the input data. The table includes the process names, arrival times, burst times, run times, finish times, turn-around times, and waiting times.\n",
        "\n",
        "    Args:\n",
        "        data: A dictionary containing the input data for the scheduling simulation.\n",
        "\n",
        "    Returns:\n",
        "        A dictionary containing the scheduling data for the input data.\n",
        "    \"\"\"\n",
        "    self.processes = data\n",
        "    sorted_processes = self.sort_processes(self.processes)\n",
        "    self.sorted_processes = sorted_processes\n",
        "\n",
        "    gant_chart = self.build_gant_chart(sorted_processes.copy())\n",
        "    sorted_processes_as_names = list(gant_chart.copy().keys())\n",
        "\n",
        "    gant_chart = list(gant_chart.values())\n",
        "\n",
        "    processes = [process.process_name for process in sorted_processes_as_names]\n",
        "    arrival_time = [process.arrival_time for process in sorted_processes_as_names]\n",
        "    burst_time = [process.burst_time for process in sorted_processes_as_names]\n",
        "    run_time, turn_around_time, waiting_time = self.calculate_times(gant_chart, arrival_time, burst_time)\n",
        "\n",
        "    table_data = {\n",
        "      \"Process\": processes,\n",
        "      \"A.T\": arrival_time,\n",
        "      \"B.T\": burst_time,\n",
        "      \"R.T\": run_time,\n",
        "      \"F.T\": gant_chart,\n",
        "      \"T.A.T\": turn_around_time,\n",
        "      \"W.T\": waiting_time,\n",
        "    }\n",
        "\n",
        "    return table_data"
      ],
      "metadata": {
        "id": "M9Lh9DXuHhRn"
      },
      "execution_count": 5,
      "outputs": []
    },
    {
      "cell_type": "code",
      "source": [
        "p1 = Process(\"P1\", arrival_time = 0 , burst_time = 9)\n",
        "p2 = Process(\"P2\", arrival_time = 1 , burst_time = 4)\n",
        "p3 = Process(\"P3\", arrival_time = 2 , burst_time = 9)\n",
        "p4 = Process(\"P4\", arrival_time = 4 , burst_time = 3)\n",
        "q1 = [p1 , p2 , p3 , p4]"
      ],
      "metadata": {
        "id": "rKtmLLc8HqX1"
      },
      "execution_count": 6,
      "outputs": []
    },
    {
      "cell_type": "code",
      "source": [
        "p1 = Process(\"P1\", arrival_time = 0 , burst_time = 20)\n",
        "p2 = Process(\"P2\", arrival_time = 15 , burst_time = 25)\n",
        "p3 = Process(\"P3\", arrival_time = 30 , burst_time = 10)\n",
        "p4 = Process(\"P4\", arrival_time = 45 , burst_time = 15)\n",
        "q2 = [p1 , p2 , p3 , p4]"
      ],
      "metadata": {
        "id": "w6ZMJ_mnHnbE"
      },
      "execution_count": 7,
      "outputs": []
    },
    {
      "cell_type": "code",
      "source": [
        "p1 = Process(\"P1\", arrival_time = 0 , burst_time = 8)\n",
        "p2 = Process(\"P2\", arrival_time = 1 , burst_time = 4)\n",
        "p3 = Process(\"P3\", arrival_time = 2 , burst_time = 9)\n",
        "p4 = Process(\"P4\", arrival_time = 3 , burst_time = 5)\n",
        "q3 = [p1 , p2 , p3 , p4]"
      ],
      "metadata": {
        "id": "1njio4VYHjoO"
      },
      "execution_count": 8,
      "outputs": []
    },
    {
      "cell_type": "code",
      "source": [
        "p1 = Process(\"P1\", arrival_time = 3 , burst_time = 8)\n",
        "p2 = Process(\"P2\", arrival_time = 1 , burst_time = 4)\n",
        "p3 = Process(\"P3\", arrival_time = 2 , burst_time = 9)\n",
        "p4 = Process(\"P4\", arrival_time = 0 , burst_time = 5)\n",
        "q4 = [p1 , p2 , p3 , p4]"
      ],
      "metadata": {
        "id": "8OETJZgtH4tO"
      },
      "execution_count": 9,
      "outputs": []
    },
    {
      "cell_type": "code",
      "source": [
        "def answer_the_questions(algorithm ,  questions: list):\n",
        "  data_frames = []\n",
        "  for question in questions:\n",
        "    table = algorithm.generate_table(question)\n",
        "    df = pd.DataFrame(table)\n",
        "    df.sort_values(by=['Process'] , inplace=True)\n",
        "    data_frames.append(df)\n",
        "  return data_frames"
      ],
      "metadata": {
        "id": "aUl5Cs4pHs8k"
      },
      "execution_count": 10,
      "outputs": []
    },
    {
      "cell_type": "code",
      "source": [
        "questions = [q1 , q2 , q3 , q4]"
      ],
      "metadata": {
        "id": "HQPkAzpGH0rO"
      },
      "execution_count": 11,
      "outputs": []
    },
    {
      "cell_type": "code",
      "source": [
        "sjf = SJF()"
      ],
      "metadata": {
        "id": "qKqBWUQAH78E"
      },
      "execution_count": 12,
      "outputs": []
    },
    {
      "cell_type": "code",
      "source": [
        "answers = answer_the_questions(sjf , questions)"
      ],
      "metadata": {
        "id": "SgRCHxFDH_Cf"
      },
      "execution_count": 13,
      "outputs": []
    },
    {
      "cell_type": "code",
      "source": [
        "answers"
      ],
      "metadata": {
        "colab": {
          "base_uri": "https://localhost:8080/"
        },
        "id": "hH1kWH8wIBq9",
        "outputId": "905601ea-cd90-44d3-8350-e2503bd4d403"
      },
      "execution_count": 14,
      "outputs": [
        {
          "output_type": "execute_result",
          "data": {
            "text/plain": [
              "[  Process  A.T  B.T  R.T  F.T  T.A.T  W.T\n",
              " 0      P1    0    9    0    9      9    0\n",
              " 2      P2    1    4   12   16     15   11\n",
              " 3      P3    2    9   16   25     23   14\n",
              " 1      P4    4    3    9   12      8    5,\n",
              "   Process  A.T  B.T  R.T  F.T  T.A.T  W.T\n",
              " 0      P1    0   20    0   20     20    0\n",
              " 1      P2   15   25   20   45     30    5\n",
              " 2      P3   30   10   45   55     25   15\n",
              " 3      P4   45   15   55   70     25   10,\n",
              "   Process  A.T  B.T  R.T  F.T  T.A.T  W.T\n",
              " 0      P1    0    8    0    8      8    0\n",
              " 1      P2    1    4    8   12     11    7\n",
              " 3      P3    2    9   17   26     24   15\n",
              " 2      P4    3    5   12   17     14    9,\n",
              "   Process  A.T  B.T  R.T  F.T  T.A.T  W.T\n",
              " 2      P1    3    8    9   17     14    6\n",
              " 1      P2    1    4    5    9      8    4\n",
              " 3      P3    2    9   17   26     24   15\n",
              " 0      P4    0    5    0    5      5    0]"
            ]
          },
          "metadata": {},
          "execution_count": 14
        }
      ]
    }
  ]
}